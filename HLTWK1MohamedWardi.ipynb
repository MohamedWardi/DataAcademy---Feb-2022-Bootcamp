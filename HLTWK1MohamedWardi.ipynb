{
 "cells": [
  {
   "cell_type": "code",
   "execution_count": 5,
   "metadata": {},
   "outputs": [],
   "source": [
    "import random"
   ]
  },
  {
   "cell_type": "code",
   "execution_count": 6,
   "metadata": {},
   "outputs": [],
   "source": [
    "# Task 1 ​\n",
    "\n",
    "# Write a program that does the following:​\n",
    "\n",
    "# a) Stores a random number (1-10) in a variable – see hint below.​\n",
    "\n",
    "# b) Asks a user for their name and stores this in a variable.​\n",
    "\n",
    "# c) Asks a user to guess the number between 1 and 10.​\n",
    "\n",
    "# d) Tells the user whether they have guessed correctly."
   ]
  },
  {
   "cell_type": "code",
   "execution_count": 22,
   "metadata": {},
   "outputs": [
    {
     "name": "stdout",
     "output_type": "stream",
     "text": [
      "wrong guess the correct number is 4\n"
     ]
    }
   ],
   "source": [
    "\n",
    "random_number = random.randint (1,10)\n",
    "name = input('What is your name?')\n",
    "guess = input('Guess a number between 1 and 10')\n",
    "if guess == random_number:\n",
    "    print (f'{name} You got it right!')\n",
    "else:\n",
    "        print(f'wrong guess the correct number is {random_number}')\n",
    "       "
   ]
  },
  {
   "cell_type": "code",
   "execution_count": 15,
   "metadata": {},
   "outputs": [],
   "source": [
    "# Task 2​\n",
    "\n",
    "# Write a program that asks a user for their favourite number between 1 and 100 and then tells them a joke based on the number. \n",
    "# You should use a minimum of 3 jokes.  ​"
   ]
  },
  {
   "cell_type": "code",
   "execution_count": 28,
   "metadata": {},
   "outputs": [
    {
     "name": "stdout",
     "output_type": "stream",
     "text": [
      "I'm afraid for the calendar. Its days are numbered.\n"
     ]
    }
   ],
   "source": [
    "fav_number = int(input('What is your favorite number between 1 and 100?'))\n",
    "\n",
    "if fav_number >1 and fav_number <= 25: \n",
    "    print(\"I'm afraid for the calendar. Its days are numbered.\")\n",
    "elif fav_number >=26 and fav_number <=50:\n",
    "    print(\"What do a tick and the Eiffel Tower have in common?\" \"They're both Paris sites.\")\n",
    "elif fav_number >= 51 and fav_number <= 75:\n",
    "    print(\"Why couldn't the bicycle stand up by itself? It was two tired.\")\n",
    "elif fav_number >= 76 and fav_number <= 100:\n",
    "    print(\"That car looks nice but the muffler seems exhausted.\")"
   ]
  },
  {
   "cell_type": "code",
   "execution_count": 29,
   "metadata": {},
   "outputs": [],
   "source": [
    "# Task 3​\n",
    "\n",
    "# Write a program that allows user to enter their favourite starter, main course, dessert and drink.​\n",
    "\n",
    "# ​\n",
    "# Concatenate these and output a message which says – “Your favourite meal is  ………with a glass of….”​"
   ]
  },
  {
   "cell_type": "code",
   "execution_count": 33,
   "metadata": {},
   "outputs": [
    {
     "name": "stdout",
     "output_type": "stream",
     "text": [
      "Your favorite meal is Pakora, biryani, cookie dough with a glass of mango lassi\n"
     ]
    }
   ],
   "source": [
    "starter = input(\"What is your favorite starter?\")\n",
    "main = input(\"What is your favorite main?\")\n",
    "dessert = input(\"What is your favorite dessert\")\n",
    "drink = input(\"What is your favorite drink?\")\n",
    "\n",
    "print(f'Your favorite meal is {starter}, {main}, {dessert} with a glass of {drink}')"
   ]
  }
 ],
 "metadata": {
  "interpreter": {
   "hash": "463114de836b008c95c6ae82ac9f6b816e3bcb4f5fe80b6678b6effef6d2062a"
  },
  "kernelspec": {
   "display_name": "Python 3.9.7 ('base')",
   "language": "python",
   "name": "python3"
  },
  "language_info": {
   "codemirror_mode": {
    "name": "ipython",
    "version": 3
   },
   "file_extension": ".py",
   "mimetype": "text/x-python",
   "name": "python",
   "nbconvert_exporter": "python",
   "pygments_lexer": "ipython3",
   "version": "3.9.7"
  },
  "orig_nbformat": 4
 },
 "nbformat": 4,
 "nbformat_minor": 2
}
