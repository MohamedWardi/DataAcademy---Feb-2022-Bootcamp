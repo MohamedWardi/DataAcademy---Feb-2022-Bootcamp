{
 "cells": [
  {
   "cell_type": "code",
   "execution_count": 33,
   "metadata": {},
   "outputs": [],
   "source": [
    "import pandas as pd\n",
    "from sklearn.datasets import load_iris"
   ]
  },
  {
   "cell_type": "code",
   "execution_count": 11,
   "metadata": {},
   "outputs": [
    {
     "data": {
      "text/html": [
       "<div>\n",
       "<style scoped>\n",
       "    .dataframe tbody tr th:only-of-type {\n",
       "        vertical-align: middle;\n",
       "    }\n",
       "\n",
       "    .dataframe tbody tr th {\n",
       "        vertical-align: top;\n",
       "    }\n",
       "\n",
       "    .dataframe thead th {\n",
       "        text-align: right;\n",
       "    }\n",
       "</style>\n",
       "<table border=\"1\" class=\"dataframe\">\n",
       "  <thead>\n",
       "    <tr style=\"text-align: right;\">\n",
       "      <th></th>\n",
       "      <th>destinations</th>\n",
       "      <th>feedback score (0-10)</th>\n",
       "      <th>average hotel rating (0-10)</th>\n",
       "      <th>number of all-inclusive hotels</th>\n",
       "      <th>most visited city</th>\n",
       "    </tr>\n",
       "  </thead>\n",
       "  <tbody>\n",
       "    <tr>\n",
       "      <th>0</th>\n",
       "      <td>Anguilla</td>\n",
       "      <td>2</td>\n",
       "      <td>6</td>\n",
       "      <td>66</td>\n",
       "      <td>212</td>\n",
       "    </tr>\n",
       "    <tr>\n",
       "      <th>1</th>\n",
       "      <td>Antarctica/British Antarctic Territory</td>\n",
       "      <td>6</td>\n",
       "      <td>7</td>\n",
       "      <td>2</td>\n",
       "      <td>642</td>\n",
       "    </tr>\n",
       "    <tr>\n",
       "      <th>2</th>\n",
       "      <td>Antigua and Barbuda</td>\n",
       "      <td>9</td>\n",
       "      <td>4</td>\n",
       "      <td>43</td>\n",
       "      <td>130</td>\n",
       "    </tr>\n",
       "    <tr>\n",
       "      <th>3</th>\n",
       "      <td>Barbados</td>\n",
       "      <td>10</td>\n",
       "      <td>6</td>\n",
       "      <td>8</td>\n",
       "      <td>333</td>\n",
       "    </tr>\n",
       "    <tr>\n",
       "      <th>4</th>\n",
       "      <td>Bermuda</td>\n",
       "      <td>9</td>\n",
       "      <td>8</td>\n",
       "      <td>23</td>\n",
       "      <td>463</td>\n",
       "    </tr>\n",
       "    <tr>\n",
       "      <th>5</th>\n",
       "      <td>British Indian Ocean Territory</td>\n",
       "      <td>8</td>\n",
       "      <td>5</td>\n",
       "      <td>71</td>\n",
       "      <td>503</td>\n",
       "    </tr>\n",
       "    <tr>\n",
       "      <th>6</th>\n",
       "      <td>Cayman Islands</td>\n",
       "      <td>0</td>\n",
       "      <td>7</td>\n",
       "      <td>10</td>\n",
       "      <td>275</td>\n",
       "    </tr>\n",
       "    <tr>\n",
       "      <th>7</th>\n",
       "      <td>Croatia</td>\n",
       "      <td>2</td>\n",
       "      <td>8</td>\n",
       "      <td>14</td>\n",
       "      <td>413</td>\n",
       "    </tr>\n",
       "    <tr>\n",
       "      <th>8</th>\n",
       "      <td>Dominica</td>\n",
       "      <td>6</td>\n",
       "      <td>4</td>\n",
       "      <td>23</td>\n",
       "      <td>323</td>\n",
       "    </tr>\n",
       "    <tr>\n",
       "      <th>9</th>\n",
       "      <td>Grenada</td>\n",
       "      <td>8</td>\n",
       "      <td>10</td>\n",
       "      <td>98</td>\n",
       "      <td>882</td>\n",
       "    </tr>\n",
       "    <tr>\n",
       "      <th>10</th>\n",
       "      <td>Madeira</td>\n",
       "      <td>2</td>\n",
       "      <td>8</td>\n",
       "      <td>9</td>\n",
       "      <td>580</td>\n",
       "    </tr>\n",
       "    <tr>\n",
       "      <th>11</th>\n",
       "      <td>Montserrat</td>\n",
       "      <td>5</td>\n",
       "      <td>3</td>\n",
       "      <td>10</td>\n",
       "      <td>917</td>\n",
       "    </tr>\n",
       "  </tbody>\n",
       "</table>\n",
       "</div>"
      ],
      "text/plain": [
       "                              destinations  feedback score (0-10)  \\\n",
       "0                                 Anguilla                      2   \n",
       "1   Antarctica/British Antarctic Territory                      6   \n",
       "2                      Antigua and Barbuda                      9   \n",
       "3                                 Barbados                     10   \n",
       "4                                  Bermuda                      9   \n",
       "5           British Indian Ocean Territory                      8   \n",
       "6                           Cayman Islands                      0   \n",
       "7                                  Croatia                      2   \n",
       "8                                 Dominica                      6   \n",
       "9                                  Grenada                      8   \n",
       "10                                 Madeira                      2   \n",
       "11                              Montserrat                      5   \n",
       "\n",
       "    average hotel rating (0-10)  number of all-inclusive hotels  \\\n",
       "0                             6                              66   \n",
       "1                             7                               2   \n",
       "2                             4                              43   \n",
       "3                             6                               8   \n",
       "4                             8                              23   \n",
       "5                             5                              71   \n",
       "6                             7                              10   \n",
       "7                             8                              14   \n",
       "8                             4                              23   \n",
       "9                            10                              98   \n",
       "10                            8                               9   \n",
       "11                            3                              10   \n",
       "\n",
       "    most visited city   \n",
       "0                  212  \n",
       "1                  642  \n",
       "2                  130  \n",
       "3                  333  \n",
       "4                  463  \n",
       "5                  503  \n",
       "6                  275  \n",
       "7                  413  \n",
       "8                  323  \n",
       "9                  882  \n",
       "10                 580  \n",
       "11                 917  "
      ]
     },
     "execution_count": 11,
     "metadata": {},
     "output_type": "execute_result"
    }
   ],
   "source": [
    " df = pd.read_csv('holiday destinations HLT.csv')\n",
    " df"
   ]
  },
  {
   "cell_type": "code",
   "execution_count": 5,
   "metadata": {},
   "outputs": [],
   "source": [
    "# 1.How many rows and columns are there in your file?\n",
    "# 2.Print row 3-8 ( using iloc/loc).\n",
    "# 3.Find the mean number of all-inclusive hotels across all destinations.\n",
    "# 4.Find the lowest scoring destination.\n",
    "# 5.Find the highest scoring destination.\n",
    "# 6.Find all the destinations where there are more than 9 all-inclusive hotels. \n",
    "# 7.Filter the data by score above 8.  \n",
    "# 8.Filter the data score below 2 ( I need to know if these destinations should be removed or there is a problem) \n",
    "\n",
    "# Extension                                                                                                                    \n",
    "# 1.Is there a correlation between number of all-inclusive hotels and score?\n",
    "# 2.Create a data visualisation diagram to show destination and highest scores?"
   ]
  },
  {
   "cell_type": "code",
   "execution_count": 12,
   "metadata": {},
   "outputs": [
    {
     "data": {
      "text/plain": [
       "(12, 5)"
      ]
     },
     "execution_count": 12,
     "metadata": {},
     "output_type": "execute_result"
    }
   ],
   "source": [
    "df.shape"
   ]
  },
  {
   "cell_type": "code",
   "execution_count": 13,
   "metadata": {},
   "outputs": [
    {
     "data": {
      "text/html": [
       "<div>\n",
       "<style scoped>\n",
       "    .dataframe tbody tr th:only-of-type {\n",
       "        vertical-align: middle;\n",
       "    }\n",
       "\n",
       "    .dataframe tbody tr th {\n",
       "        vertical-align: top;\n",
       "    }\n",
       "\n",
       "    .dataframe thead th {\n",
       "        text-align: right;\n",
       "    }\n",
       "</style>\n",
       "<table border=\"1\" class=\"dataframe\">\n",
       "  <thead>\n",
       "    <tr style=\"text-align: right;\">\n",
       "      <th></th>\n",
       "      <th>destinations</th>\n",
       "      <th>feedback score (0-10)</th>\n",
       "      <th>average hotel rating (0-10)</th>\n",
       "      <th>number of all-inclusive hotels</th>\n",
       "      <th>most visited city</th>\n",
       "    </tr>\n",
       "  </thead>\n",
       "  <tbody>\n",
       "    <tr>\n",
       "      <th>2</th>\n",
       "      <td>Antigua and Barbuda</td>\n",
       "      <td>9</td>\n",
       "      <td>4</td>\n",
       "      <td>43</td>\n",
       "      <td>130</td>\n",
       "    </tr>\n",
       "    <tr>\n",
       "      <th>3</th>\n",
       "      <td>Barbados</td>\n",
       "      <td>10</td>\n",
       "      <td>6</td>\n",
       "      <td>8</td>\n",
       "      <td>333</td>\n",
       "    </tr>\n",
       "    <tr>\n",
       "      <th>4</th>\n",
       "      <td>Bermuda</td>\n",
       "      <td>9</td>\n",
       "      <td>8</td>\n",
       "      <td>23</td>\n",
       "      <td>463</td>\n",
       "    </tr>\n",
       "    <tr>\n",
       "      <th>5</th>\n",
       "      <td>British Indian Ocean Territory</td>\n",
       "      <td>8</td>\n",
       "      <td>5</td>\n",
       "      <td>71</td>\n",
       "      <td>503</td>\n",
       "    </tr>\n",
       "    <tr>\n",
       "      <th>6</th>\n",
       "      <td>Cayman Islands</td>\n",
       "      <td>0</td>\n",
       "      <td>7</td>\n",
       "      <td>10</td>\n",
       "      <td>275</td>\n",
       "    </tr>\n",
       "  </tbody>\n",
       "</table>\n",
       "</div>"
      ],
      "text/plain": [
       "                     destinations  feedback score (0-10)  \\\n",
       "2             Antigua and Barbuda                      9   \n",
       "3                        Barbados                     10   \n",
       "4                         Bermuda                      9   \n",
       "5  British Indian Ocean Territory                      8   \n",
       "6                  Cayman Islands                      0   \n",
       "\n",
       "   average hotel rating (0-10)  number of all-inclusive hotels  \\\n",
       "2                            4                              43   \n",
       "3                            6                               8   \n",
       "4                            8                              23   \n",
       "5                            5                              71   \n",
       "6                            7                              10   \n",
       "\n",
       "   most visited city   \n",
       "2                 130  \n",
       "3                 333  \n",
       "4                 463  \n",
       "5                 503  \n",
       "6                 275  "
      ]
     },
     "execution_count": 13,
     "metadata": {},
     "output_type": "execute_result"
    }
   ],
   "source": [
    "df.iloc[2:7]"
   ]
  },
  {
   "cell_type": "code",
   "execution_count": 16,
   "metadata": {},
   "outputs": [
    {
     "data": {
      "text/plain": [
       "31.416666666666668"
      ]
     },
     "execution_count": 16,
     "metadata": {},
     "output_type": "execute_result"
    }
   ],
   "source": [
    "df['number of all-inclusive hotels'].mean()"
   ]
  },
  {
   "cell_type": "code",
   "execution_count": 18,
   "metadata": {},
   "outputs": [
    {
     "data": {
      "text/plain": [
       "destinations                      Anguilla\n",
       "feedback score (0-10)                    0\n",
       "average hotel rating (0-10)              3\n",
       "number of all-inclusive hotels           2\n",
       "most visited city                      130\n",
       "dtype: object"
      ]
     },
     "execution_count": 18,
     "metadata": {},
     "output_type": "execute_result"
    }
   ],
   "source": [
    "df.min()"
   ]
  },
  {
   "cell_type": "code",
   "execution_count": 19,
   "metadata": {},
   "outputs": [
    {
     "data": {
      "text/plain": [
       "destinations                      Montserrat\n",
       "feedback score (0-10)                     10\n",
       "average hotel rating (0-10)               10\n",
       "number of all-inclusive hotels            98\n",
       "most visited city                        917\n",
       "dtype: object"
      ]
     },
     "execution_count": 19,
     "metadata": {},
     "output_type": "execute_result"
    }
   ],
   "source": [
    "df.max()"
   ]
  },
  {
   "cell_type": "code",
   "execution_count": 25,
   "metadata": {},
   "outputs": [
    {
     "data": {
      "text/html": [
       "<div>\n",
       "<style scoped>\n",
       "    .dataframe tbody tr th:only-of-type {\n",
       "        vertical-align: middle;\n",
       "    }\n",
       "\n",
       "    .dataframe tbody tr th {\n",
       "        vertical-align: top;\n",
       "    }\n",
       "\n",
       "    .dataframe thead th {\n",
       "        text-align: right;\n",
       "    }\n",
       "</style>\n",
       "<table border=\"1\" class=\"dataframe\">\n",
       "  <thead>\n",
       "    <tr style=\"text-align: right;\">\n",
       "      <th></th>\n",
       "      <th>destinations</th>\n",
       "      <th>feedback score (0-10)</th>\n",
       "      <th>average hotel rating (0-10)</th>\n",
       "      <th>number of all-inclusive hotels</th>\n",
       "      <th>most visited city</th>\n",
       "    </tr>\n",
       "  </thead>\n",
       "  <tbody>\n",
       "    <tr>\n",
       "      <th>0</th>\n",
       "      <td>Anguilla</td>\n",
       "      <td>2</td>\n",
       "      <td>6</td>\n",
       "      <td>66</td>\n",
       "      <td>212</td>\n",
       "    </tr>\n",
       "    <tr>\n",
       "      <th>2</th>\n",
       "      <td>Antigua and Barbuda</td>\n",
       "      <td>9</td>\n",
       "      <td>4</td>\n",
       "      <td>43</td>\n",
       "      <td>130</td>\n",
       "    </tr>\n",
       "    <tr>\n",
       "      <th>4</th>\n",
       "      <td>Bermuda</td>\n",
       "      <td>9</td>\n",
       "      <td>8</td>\n",
       "      <td>23</td>\n",
       "      <td>463</td>\n",
       "    </tr>\n",
       "    <tr>\n",
       "      <th>5</th>\n",
       "      <td>British Indian Ocean Territory</td>\n",
       "      <td>8</td>\n",
       "      <td>5</td>\n",
       "      <td>71</td>\n",
       "      <td>503</td>\n",
       "    </tr>\n",
       "    <tr>\n",
       "      <th>6</th>\n",
       "      <td>Cayman Islands</td>\n",
       "      <td>0</td>\n",
       "      <td>7</td>\n",
       "      <td>10</td>\n",
       "      <td>275</td>\n",
       "    </tr>\n",
       "    <tr>\n",
       "      <th>7</th>\n",
       "      <td>Croatia</td>\n",
       "      <td>2</td>\n",
       "      <td>8</td>\n",
       "      <td>14</td>\n",
       "      <td>413</td>\n",
       "    </tr>\n",
       "    <tr>\n",
       "      <th>8</th>\n",
       "      <td>Dominica</td>\n",
       "      <td>6</td>\n",
       "      <td>4</td>\n",
       "      <td>23</td>\n",
       "      <td>323</td>\n",
       "    </tr>\n",
       "    <tr>\n",
       "      <th>9</th>\n",
       "      <td>Grenada</td>\n",
       "      <td>8</td>\n",
       "      <td>10</td>\n",
       "      <td>98</td>\n",
       "      <td>882</td>\n",
       "    </tr>\n",
       "    <tr>\n",
       "      <th>10</th>\n",
       "      <td>Madeira</td>\n",
       "      <td>2</td>\n",
       "      <td>8</td>\n",
       "      <td>9</td>\n",
       "      <td>580</td>\n",
       "    </tr>\n",
       "    <tr>\n",
       "      <th>11</th>\n",
       "      <td>Montserrat</td>\n",
       "      <td>5</td>\n",
       "      <td>3</td>\n",
       "      <td>10</td>\n",
       "      <td>917</td>\n",
       "    </tr>\n",
       "  </tbody>\n",
       "</table>\n",
       "</div>"
      ],
      "text/plain": [
       "                      destinations  feedback score (0-10)  \\\n",
       "0                         Anguilla                      2   \n",
       "2              Antigua and Barbuda                      9   \n",
       "4                          Bermuda                      9   \n",
       "5   British Indian Ocean Territory                      8   \n",
       "6                   Cayman Islands                      0   \n",
       "7                          Croatia                      2   \n",
       "8                         Dominica                      6   \n",
       "9                          Grenada                      8   \n",
       "10                         Madeira                      2   \n",
       "11                      Montserrat                      5   \n",
       "\n",
       "    average hotel rating (0-10)  number of all-inclusive hotels  \\\n",
       "0                             6                              66   \n",
       "2                             4                              43   \n",
       "4                             8                              23   \n",
       "5                             5                              71   \n",
       "6                             7                              10   \n",
       "7                             8                              14   \n",
       "8                             4                              23   \n",
       "9                            10                              98   \n",
       "10                            8                               9   \n",
       "11                            3                              10   \n",
       "\n",
       "    most visited city   \n",
       "0                  212  \n",
       "2                  130  \n",
       "4                  463  \n",
       "5                  503  \n",
       "6                  275  \n",
       "7                  413  \n",
       "8                  323  \n",
       "9                  882  \n",
       "10                 580  \n",
       "11                 917  "
      ]
     },
     "execution_count": 25,
     "metadata": {},
     "output_type": "execute_result"
    }
   ],
   "source": [
    "most_inclusive_hotels = df[df['number of all-inclusive hotels'] > 8]\n",
    "most_inclusive_hotels"
   ]
  },
  {
   "cell_type": "code",
   "execution_count": 29,
   "metadata": {},
   "outputs": [
    {
     "data": {
      "text/html": [
       "<div>\n",
       "<style scoped>\n",
       "    .dataframe tbody tr th:only-of-type {\n",
       "        vertical-align: middle;\n",
       "    }\n",
       "\n",
       "    .dataframe tbody tr th {\n",
       "        vertical-align: top;\n",
       "    }\n",
       "\n",
       "    .dataframe thead th {\n",
       "        text-align: right;\n",
       "    }\n",
       "</style>\n",
       "<table border=\"1\" class=\"dataframe\">\n",
       "  <thead>\n",
       "    <tr style=\"text-align: right;\">\n",
       "      <th></th>\n",
       "      <th>destinations</th>\n",
       "      <th>feedback score (0-10)</th>\n",
       "      <th>average hotel rating (0-10)</th>\n",
       "      <th>number of all-inclusive hotels</th>\n",
       "      <th>most visited city</th>\n",
       "    </tr>\n",
       "  </thead>\n",
       "  <tbody>\n",
       "    <tr>\n",
       "      <th>6</th>\n",
       "      <td>Cayman Islands</td>\n",
       "      <td>0</td>\n",
       "      <td>7</td>\n",
       "      <td>10</td>\n",
       "      <td>275</td>\n",
       "    </tr>\n",
       "  </tbody>\n",
       "</table>\n",
       "</div>"
      ],
      "text/plain": [
       "     destinations  feedback score (0-10)  average hotel rating (0-10)  \\\n",
       "6  Cayman Islands                      0                            7   \n",
       "\n",
       "   number of all-inclusive hotels  most visited city   \n",
       "6                              10                 275  "
      ]
     },
     "execution_count": 29,
     "metadata": {},
     "output_type": "execute_result"
    }
   ],
   "source": [
    "below_2 = df[df['feedback score (0-10)'] < 2]\n",
    "below_2"
   ]
  },
  {
   "cell_type": "code",
   "execution_count": 31,
   "metadata": {},
   "outputs": [
    {
     "data": {
      "text/plain": [
       "0.25980439876733424"
      ]
     },
     "execution_count": 31,
     "metadata": {},
     "output_type": "execute_result"
    }
   ],
   "source": [
    "correlation = df['number of all-inclusive hotels'].corr(df['feedback score (0-10)'])\n",
    "correlation"
   ]
  },
  {
   "cell_type": "code",
   "execution_count": 39,
   "metadata": {},
   "outputs": [
    {
     "data": {
      "text/plain": [
       "<AxesSubplot:xlabel='destinations'>"
      ]
     },
     "execution_count": 39,
     "metadata": {},
     "output_type": "execute_result"
    },
    {
     "data": {
      "image/png": "[encoded data removed]",
      "text/plain": [
       "<Figure size 432x288 with 1 Axes>"
      ]
     },
     "metadata": {
      "needs_background": "light"
     },
     "output_type": "display_data"
    }
   ],
   "source": [
    "df.plot(x='destinations', y ='feedback score (0-10)')"
   ]
  },
  {
   "cell_type": "code",
   "execution_count": null,
   "metadata": {},
   "outputs": [],
   "source": [
    "\n",
    "\n"
   ]
  },
  {
   "cell_type": "code",
   "execution_count": null,
   "metadata": {},
   "outputs": [],
   "source": []
  }
 ],
 "metadata": {
  "interpreter": {
   "hash": "463114de836b008c95c6ae82ac9f6b816e3bcb4f5fe80b6678b6effef6d2062a"
  },
  "kernelspec": {
   "display_name": "Python 3.9.7 ('base')",
   "language": "python",
   "name": "python3"
  },
  "language_info": {
   "codemirror_mode": {
    "name": "ipython",
    "version": 3
   },
   "file_extension": ".py",
   "mimetype": "text/x-python",
   "name": "python",
   "nbconvert_exporter": "python",
   "pygments_lexer": "ipython3",
   "version": "3.9.7"
  },
  "orig_nbformat": 4
 },
 "nbformat": 4,
 "nbformat_minor": 2
}
