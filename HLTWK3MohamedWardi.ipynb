{
 "cells": [
  {
   "cell_type": "code",
   "execution_count": 1,
   "metadata": {},
   "outputs": [],
   "source": [
    "import numpy as np "
   ]
  },
  {
   "cell_type": "code",
   "execution_count": 14,
   "metadata": {},
   "outputs": [],
   "source": [
    "#Task 1 Write a program that allows you to enter 4 numbers and stores them in a file called “Numbers”​\n",
    "my_file1 = open(\"Numbers.txt\", \"w\")\n",
    "first = int(input(\"Number 1\"))\n",
    "second = int(input(\"Number 2\"))\n",
    "third = int(input(\"Number 3\"))\n",
    "fourth = int(input(\"Number 4\"))\n",
    "lst = [first, second, third, fourth] \n",
    "my_file1.write(str(lst))\n",
    "my_file1.write(\"\\n\")\n",
    "\n",
    "my_file1.close()\n"
   ]
  },
  {
   "cell_type": "code",
   "execution_count": 21,
   "metadata": {},
   "outputs": [
    {
     "name": "stdout",
     "output_type": "stream",
     "text": [
      "First-Class Degree\n"
     ]
    },
    {
     "data": {
      "text/plain": [
       "70"
      ]
     },
     "execution_count": 21,
     "metadata": {},
     "output_type": "execute_result"
    }
   ],
   "source": [
    "# Task 2 Write a program to ask a student for their percentage mark and convert this to a grade.​\n",
    "\n",
    "def mark_grade(grade):\n",
    "    grade = int(input(\"What % did you get?\"))\n",
    "\n",
    "    if grade >= 70 and grade <=100:\n",
    "        print(\"First-Class Degree\") \n",
    "    elif grade <=69 and grade >= 60:\n",
    "        print(\"Upper Second-Class Degree\")\n",
    "    elif grade <=59 and grade >= 50:\n",
    "        print(\"Lower Second-Class Degree\")\n",
    "    elif grade <=49 and grade >= 40:\n",
    "        print(\"Third Class Degree\")\n",
    "    else: \n",
    "        print(\"fail\")   \n",
    "    return grade\n",
    "\n",
    "mark_grade(70)"
   ]
  },
  {
   "cell_type": "code",
   "execution_count": 4,
   "metadata": {},
   "outputs": [
    {
     "name": "stdout",
     "output_type": "stream",
     "text": [
      "[0 1 2 3 4 5 6 7 8 9]\n"
     ]
    }
   ],
   "source": [
    "# 1. Create a 1D array of numbers from 0 to 9\n",
    "array1 = np.arange(10)\n",
    "print(array1)\n"
   ]
  },
  {
   "cell_type": "code",
   "execution_count": 27,
   "metadata": {},
   "outputs": [
    {
     "name": "stdout",
     "output_type": "stream",
     "text": [
      "[[ True  True  True]\n",
      " [ True  True  True]\n",
      " [ True  True  True]]\n"
     ]
    }
   ],
   "source": [
    "# Create a 3×3 NumPy array of all Boolean value Trues\n",
    "matrix = np.ones((1, 9), dtype=bool).reshape(3,3)\n",
    "\n",
    "print(matrix)\n"
   ]
  },
  {
   "cell_type": "code",
   "execution_count": 29,
   "metadata": {},
   "outputs": [
    {
     "data": {
      "text/plain": [
       "array([1, 3, 5, 7, 9])"
      ]
     },
     "execution_count": 29,
     "metadata": {},
     "output_type": "execute_result"
    }
   ],
   "source": [
    "# Extract all odd numbers from array of 1-10\n",
    "a = np.arange(10)\n",
    "a[a % 2 == 1]"
   ]
  },
  {
   "cell_type": "code",
   "execution_count": 30,
   "metadata": {},
   "outputs": [
    {
     "name": "stdout",
     "output_type": "stream",
     "text": [
      "[0 2 4 6 8]\n"
     ]
    }
   ],
   "source": [
    "#Replace all odd numbers in an array of 1-10 with the value -1​\n",
    "\n",
    "replaced = a[a % 2 == 1] -1\n",
    "print(replaced)\n"
   ]
  },
  {
   "cell_type": "code",
   "execution_count": 35,
   "metadata": {},
   "outputs": [
    {
     "name": "stdout",
     "output_type": "stream",
     "text": [
      "[[0 1]\n",
      " [2 3]\n",
      " [4 5]]\n"
     ]
    }
   ],
   "source": [
    "# Convert a 1D array to a 2D array with 2 rows​\n",
    "a = np.arange(6)\n",
    "b = np.reshape(a, (-1,2))\n",
    "print(b)"
   ]
  },
  {
   "cell_type": "code",
   "execution_count": 45,
   "metadata": {},
   "outputs": [
    {
     "name": "stdout",
     "output_type": "stream",
     "text": [
      "[[ 1 11]\n",
      " [ 2 12]\n",
      " [ 3 13]\n",
      " [ 4 14]\n",
      " [ 5 15]\n",
      " [ 6 16]\n",
      " [ 7 17]\n",
      " [ 8 18]\n",
      " [ 9 19]\n",
      " [10 20]]\n",
      "210\n",
      "935\n"
     ]
    }
   ],
   "source": [
    "# Create two arrays a and b, stack these two arrays vertically use the  np.dot and np.sum to calculate totals\n",
    "a = np.arange(1,11)\n",
    "b = np.arange(11,21)\n",
    "c = np.column_stack((a,b))\n",
    "\n",
    "\n",
    "sum1 = np.sum(c)\n",
    "sum2 = np.dot(a,b)\n",
    "\n",
    "print(c)\n",
    "print(sum1)\n",
    "print(sum2)"
   ]
  },
  {
   "cell_type": "code",
   "execution_count": null,
   "metadata": {},
   "outputs": [],
   "source": []
  }
 ],
 "metadata": {
  "interpreter": {
   "hash": "aee8b7b246df8f9039afb4144a1f6fd8d2ca17a180786b69acc140d282b71a49"
  },
  "kernelspec": {
   "display_name": "Python 3.10.1 64-bit",
   "language": "python",
   "name": "python3"
  },
  "language_info": {
   "codemirror_mode": {
    "name": "ipython",
    "version": 3
   },
   "file_extension": ".py",
   "mimetype": "text/x-python",
   "name": "python",
   "nbconvert_exporter": "python",
   "pygments_lexer": "ipython3",
   "version": "3.9.7"
  },
  "orig_nbformat": 4
 },
 "nbformat": 4,
 "nbformat_minor": 2
}
